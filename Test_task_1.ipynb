{
 "cells": [
  {
   "cell_type": "code",
   "execution_count": 47,
   "id": "4fbae929-05e9-4bb7-9d93-15107d192b42",
   "metadata": {},
   "outputs": [],
   "source": [
    "import numpy as np\n",
    "import pandas as pd"
   ]
  },
  {
   "cell_type": "code",
   "execution_count": 124,
   "id": "22e898ea-d92f-4c96-8b2d-34cd63780152",
   "metadata": {},
   "outputs": [
    {
     "name": "stdout",
     "output_type": "stream",
     "text": [
      "Decision is B 53.78\n"
     ]
    }
   ],
   "source": [
    "shop = pd.read_excel('./Тестовое data.xlsx', sheet_name = 'Shop') #reading the xlsx file\n",
    "shop = shop.values.tolist()\n",
    "shop = np.array(shop)\n",
    "shop = np.delete(shop, 0, 1)\n",
    "A = np.zeros(5, dtype=int)\n",
    "B = np.zeros(5, dtype=int)\n",
    "C = np.zeros(5, dtype=int)\n",
    "D = np.zeros(5, dtype=int)\n",
    "Criteria = [-0.02, 0.05, 0.3, 0.03, 0.6] #coefficients for each parametr\n",
    "for i in range (len(shop)): #summarizing of every parametr for each dealer\n",
    "    if shop[i][5] == 'A':\n",
    "        for j in range(0,5):\n",
    "            x = int(shop[i][j])\n",
    "            A[j] += x\n",
    "    elif shop[i][5] == 'B':\n",
    "        for j in range(0,5):\n",
    "            x = int(shop[i][j])\n",
    "            B[j] += x\n",
    "    elif shop[i][5] == 'C':\n",
    "        for j in range(0,5):\n",
    "            x = int(shop[i][j])\n",
    "            C[j] += x\n",
    "    else:\n",
    "        for j in range(0,5):\n",
    "            x = int(shop[i][j])\n",
    "            D[j] += x\n",
    "A = np.true_divide(A, 3) #averaging each dealer\n",
    "B = np.true_divide(B, 2)\n",
    "C = np.true_divide(C, 2)\n",
    "D = np.true_divide(D, 3)\n",
    "\n",
    "A = sum(A*Criteria) #applying criteria\n",
    "B = sum(B*Criteria)\n",
    "C = sum(C*Criteria)\n",
    "D = sum(D*Criteria)\n",
    "\n",
    "if A > (B or C or D):\n",
    "    print('Decision is A', A)\n",
    "elif B > (C or D):\n",
    "    print('Decision is B', B)\n",
    "elif C > D:\n",
    "    print('Decision is C', C)\n",
    "else:\n",
    "    print('Decision is D', D)"
   ]
  },
  {
   "cell_type": "code",
   "execution_count": null,
   "id": "615f0c6c-dca6-4d97-b4ea-da08e99ad04f",
   "metadata": {},
   "outputs": [],
   "source": []
  }
 ],
 "metadata": {
  "kernelspec": {
   "display_name": "Python 3",
   "language": "python",
   "name": "python3"
  },
  "language_info": {
   "codemirror_mode": {
    "name": "ipython",
    "version": 3
   },
   "file_extension": ".py",
   "mimetype": "text/x-python",
   "name": "python",
   "nbconvert_exporter": "python",
   "pygments_lexer": "ipython3",
   "version": "3.8.8"
  }
 },
 "nbformat": 4,
 "nbformat_minor": 5
}
